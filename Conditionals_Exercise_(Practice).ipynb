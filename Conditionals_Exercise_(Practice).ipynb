{
  "nbformat": 4,
  "nbformat_minor": 0,
  "metadata": {
    "colab": {
      "provenance": []
    },
    "kernelspec": {
      "name": "python3",
      "display_name": "Python 3"
    },
    "language_info": {
      "name": "python"
    }
  },
  "cells": [
    {
      "cell_type": "markdown",
      "source": [
        "# Conditionals Exercise (Practice)\n",
        "- Anas Abu Alhaija"
      ],
      "metadata": {
        "id": "zhcFSaIz5rkX"
      }
    },
    {
      "cell_type": "code",
      "source": [
        "name = 'Jane Doe'\n",
        "if name == 'Jane Doe':\n",
        "  print('Hello, Jane!')"
      ],
      "metadata": {
        "colab": {
          "base_uri": "https://localhost:8080/"
        },
        "id": "fbZ-H60l6ZJs",
        "outputId": "7bfd4b46-724f-42ab-bc90-3198bc057884"
      },
      "execution_count": 1,
      "outputs": [
        {
          "output_type": "stream",
          "name": "stdout",
          "text": [
            "Hello, Jane!\n"
          ]
        }
      ]
    },
    {
      "cell_type": "code",
      "source": [
        "number_of_visites = 2\n",
        "if number_of_visites > 1:\n",
        "  print('Welcome back again')"
      ],
      "metadata": {
        "colab": {
          "base_uri": "https://localhost:8080/"
        },
        "id": "JoAFu_uL7JMW",
        "outputId": "7af9fc69-7582-4b31-8a86-5444b325a34a"
      },
      "execution_count": 2,
      "outputs": [
        {
          "output_type": "stream",
          "name": "stdout",
          "text": [
            "Welcome back again\n"
          ]
        }
      ]
    },
    {
      "cell_type": "code",
      "source": [
        "number_of_visites = 0\n",
        "if number_of_visites > 1:\n",
        "  print('Welcome back again')"
      ],
      "metadata": {
        "id": "WjfLj5bc7c8O"
      },
      "execution_count": 3,
      "outputs": []
    },
    {
      "cell_type": "code",
      "source": [
        "temperature = 60\n",
        "if temperature > 60:\n",
        "  print('Enjoy with nice weather')\n",
        "else:\n",
        "  print(\"Don't forget a jacket\")"
      ],
      "metadata": {
        "colab": {
          "base_uri": "https://localhost:8080/"
        },
        "id": "dZZ9xK6K7h0d",
        "outputId": "62867361-11c6-4e97-8a43-8ad9bbcb1eac"
      },
      "execution_count": 4,
      "outputs": [
        {
          "output_type": "stream",
          "name": "stdout",
          "text": [
            "Don't forget a jacket\n"
          ]
        }
      ]
    },
    {
      "cell_type": "code",
      "source": [
        "raining = True\n",
        "if raining == True:\n",
        "  print(\"Don't forget an umbrella\")\n",
        "else:\n",
        "  print(\"Enjoy the nice weather\")"
      ],
      "metadata": {
        "colab": {
          "base_uri": "https://localhost:8080/"
        },
        "id": "uFiUh5mM8Zkq",
        "outputId": "04ae6753-f81b-4618-a12f-2ca5ec334b51"
      },
      "execution_count": 5,
      "outputs": [
        {
          "output_type": "stream",
          "name": "stdout",
          "text": [
            "Don't forget an umbrella\n"
          ]
        }
      ]
    },
    {
      "cell_type": "code",
      "source": [
        "raining = False\n",
        "if raining == True:\n",
        "  print(\"Don't forget an umbrella\")\n",
        "else:\n",
        "  print(\"Enjoy the nice weather\")"
      ],
      "metadata": {
        "colab": {
          "base_uri": "https://localhost:8080/"
        },
        "id": "_SmuTZx79JuV",
        "outputId": "dd9f6484-8244-4d63-d27f-a483d5bce770"
      },
      "execution_count": 6,
      "outputs": [
        {
          "output_type": "stream",
          "name": "stdout",
          "text": [
            "Enjoy the nice weather\n"
          ]
        }
      ]
    },
    {
      "cell_type": "code",
      "source": [
        "raining = True\n",
        "temperature = 55\n",
        "if temperature < 60:\n",
        "  print(\"Don't forget a jacket\")\n",
        "if raining == True:\n",
        "  print(\"Don't forget an umbrella\")\n",
        "else:\n",
        "  print('Enjoy the beautiful weather!')"
      ],
      "metadata": {
        "colab": {
          "base_uri": "https://localhost:8080/"
        },
        "id": "3XWlcX1u9MJ4",
        "outputId": "dc84a007-90a4-4e26-c77b-d05a6240c5b5"
      },
      "execution_count": 7,
      "outputs": [
        {
          "output_type": "stream",
          "name": "stdout",
          "text": [
            "Don't forget a jacket\n",
            "Don't forget an umbrella\n"
          ]
        }
      ]
    },
    {
      "cell_type": "code",
      "source": [
        "raining = True\n",
        "temperature = 70\n",
        "if temperature < 60:\n",
        "  print(\"Don't forget a jacket\")\n",
        "if raining == True:\n",
        "  print(\"Don't forget an umbrella\")\n",
        "else:\n",
        "  print('Enjoy the beautiful weather!')"
      ],
      "metadata": {
        "colab": {
          "base_uri": "https://localhost:8080/"
        },
        "id": "OYkzeMsN_Bc5",
        "outputId": "9cec8f73-b332-48f1-b95f-be62ff23cdd8"
      },
      "execution_count": 8,
      "outputs": [
        {
          "output_type": "stream",
          "name": "stdout",
          "text": [
            "Don't forget an umbrella\n"
          ]
        }
      ]
    },
    {
      "cell_type": "code",
      "source": [
        "raining = False\n",
        "temperature = 55\n",
        "if temperature < 60:\n",
        "  print(\"Don't forget a jacket\")\n",
        "if raining == True:\n",
        "  print(\"Don't forget an umbrella\")\n",
        "else:\n",
        "  print('Enjoy the beautiful weather!')"
      ],
      "metadata": {
        "colab": {
          "base_uri": "https://localhost:8080/"
        },
        "id": "CQ3aBWcm_FYH",
        "outputId": "14555191-ca68-4b9f-a73f-e3126de5702e"
      },
      "execution_count": 10,
      "outputs": [
        {
          "output_type": "stream",
          "name": "stdout",
          "text": [
            "Don't forget a jacket\n",
            "Enjoy the beautiful weather!\n"
          ]
        }
      ]
    },
    {
      "cell_type": "code",
      "source": [
        "weather = 'stormy'\n",
        "moon = 'full'\n",
        "if weather == 'stormy':\n",
        "  print(\"it was a dark and stormy night\")\n",
        "elif moon == 'full':\n",
        "  print(\"It was a bright night\")\n",
        "else:\n",
        "  print(\"it was a dark night\")"
      ],
      "metadata": {
        "colab": {
          "base_uri": "https://localhost:8080/"
        },
        "id": "TpWnQKg9_Mk1",
        "outputId": "ab073fc2-f554-4218-b54c-aec9e8009c0c"
      },
      "execution_count": 11,
      "outputs": [
        {
          "output_type": "stream",
          "name": "stdout",
          "text": [
            "it was a dark and stormy night\n"
          ]
        }
      ]
    },
    {
      "cell_type": "code",
      "source": [
        "temperature = 55\n",
        "time = 'night'\n",
        "\n",
        "if time == 'night':\n",
        "  if temperature < 60:\n",
        "    print(\"It's cold and dark outside\")"
      ],
      "metadata": {
        "colab": {
          "base_uri": "https://localhost:8080/"
        },
        "id": "Kf5FdioNBnHG",
        "outputId": "5268c20f-1242-4571-c175-46f87066539f"
      },
      "execution_count": 12,
      "outputs": [
        {
          "output_type": "stream",
          "name": "stdout",
          "text": [
            "It's cold and dark outside\n"
          ]
        }
      ]
    },
    {
      "cell_type": "code",
      "source": [
        "time = 'night'\n",
        "weather = 'stormy'\n",
        "\n",
        "if time == 'night':\n",
        "  if weather == 'stormy':\n",
        "    print(\"Its a stormy night. you will want a flashlight and umbrella.\")\n",
        "  else:\n",
        "    print('Its a beautiful night. you will want your flashlight ')\n",
        "elif time == 'day':\n",
        "  if weather == 'stormy':\n",
        "    print(\"Its a stormy day. you'll want your umbrella\")\n",
        "  else:\n",
        "    print('its a nice and sunny day. you will want sunglasses and sunscreen')\n",
        "else:\n",
        "  print('I can only provide recommendations during the day or at night.')"
      ],
      "metadata": {
        "colab": {
          "base_uri": "https://localhost:8080/"
        },
        "id": "WYJgh_FQCp28",
        "outputId": "7dc02188-f976-4938-d72a-f008a5c753e6"
      },
      "execution_count": 15,
      "outputs": [
        {
          "output_type": "stream",
          "name": "stdout",
          "text": [
            "Its a stormy night. you will want a flashlight and umbrella.\n"
          ]
        }
      ]
    },
    {
      "cell_type": "code",
      "source": [
        "fahrenheit = 50\n",
        "weather = 'rainy'\n",
        "\n",
        "if fahrenheit < 60:\n",
        "  if weather == 'rainy':\n",
        "    print(\"it's cold and rainy\")\n",
        "  else:\n",
        "    print(\"it's cold and sunny\")\n",
        "elif fahrenheit > 60:\n",
        "  if weather == 'rainy':\n",
        "    print(\"it's warm and rainy\")\n",
        "  else:\n",
        "    print(\"it's warm and sunny\")\n",
        "else:\n",
        "  print(\"I can't provide any recommendations\")"
      ],
      "metadata": {
        "colab": {
          "base_uri": "https://localhost:8080/"
        },
        "id": "f5cx3mXzDhi_",
        "outputId": "5c3897fe-9fc9-4b17-e41a-9071d1349513"
      },
      "execution_count": 16,
      "outputs": [
        {
          "output_type": "stream",
          "name": "stdout",
          "text": [
            "it's cold and rainy\n"
          ]
        }
      ]
    },
    {
      "cell_type": "code",
      "source": [
        "a = 100\n",
        "if (a > 2) & (a < 5):\n",
        "  print('a is between 2 and 5')\n",
        "else:\n",
        "  print(\"a isn't between 2 and 5\")"
      ],
      "metadata": {
        "colab": {
          "base_uri": "https://localhost:8080/"
        },
        "id": "WRJ0zNAWINVV",
        "outputId": "480dc634-914f-4cc1-8309-c10024746981"
      },
      "execution_count": 17,
      "outputs": [
        {
          "output_type": "stream",
          "name": "stdout",
          "text": [
            "a isn't between 2 and 5\n"
          ]
        }
      ]
    },
    {
      "cell_type": "code",
      "source": [
        "c = 10001\n",
        "if ( c > 100) & ( c < 1000):\n",
        "  print('c is greater than 100 and less than 1000')\n",
        "elif c > 100:\n",
        "  print(\"c is greater than 1000 \")\n",
        "else:\n",
        "  print('c is less than 100')"
      ],
      "metadata": {
        "colab": {
          "base_uri": "https://localhost:8080/"
        },
        "id": "eAEzrSmPJFpW",
        "outputId": "c4a3a8ae-9d36-4dcf-9c98-4e9bc6c7d27b"
      },
      "execution_count": 19,
      "outputs": [
        {
          "output_type": "stream",
          "name": "stdout",
          "text": [
            "c is greater than 1000 \n"
          ]
        }
      ]
    },
    {
      "cell_type": "code",
      "source": [
        "b = 3\n",
        "\n",
        "if (b <= 2) | (b >= 5):\n",
        "  print(\"b isn't betwenn 2 and 5\")\n",
        "else:\n",
        "  print(\"b is between 2 and 5\")"
      ],
      "metadata": {
        "colab": {
          "base_uri": "https://localhost:8080/"
        },
        "id": "qe5Zhi6dK1fH",
        "outputId": "5bb0e11f-eac6-419e-f9eb-54a54acbc0f2"
      },
      "execution_count": 20,
      "outputs": [
        {
          "output_type": "stream",
          "name": "stdout",
          "text": [
            "b is between 2 and 5\n"
          ]
        }
      ]
    },
    {
      "cell_type": "code",
      "source": [
        "d = 200\n",
        "\n",
        "if (d > 1000) | (d == 100):\n",
        "  print(\"d is  greater than 1000 or equal 100\")\n",
        "else:\n",
        "  print('d is less than 1000 and not equal 100 ')"
      ],
      "metadata": {
        "colab": {
          "base_uri": "https://localhost:8080/"
        },
        "id": "KnwTeb3KMhg1",
        "outputId": "75684cf6-7e87-4b72-aaf3-78e6030bffdd"
      },
      "execution_count": 22,
      "outputs": [
        {
          "output_type": "stream",
          "name": "stdout",
          "text": [
            "d is less than 1000 and not equal 100 \n"
          ]
        }
      ]
    },
    {
      "cell_type": "code",
      "source": [],
      "metadata": {
        "id": "hJRYeA9pNgxn"
      },
      "execution_count": null,
      "outputs": []
    }
  ]
}